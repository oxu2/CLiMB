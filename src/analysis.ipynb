{
 "cells": [
  {
   "cell_type": "code",
   "execution_count": 3,
   "metadata": {},
   "outputs": [
    {
     "name": "stdout",
     "output_type": "stream",
     "text": [
      "[42.888 43.962 46.007 50.994 52.367 53.201 38.323 38.334 38.762 38.54\n",
      " 41.085 41.671 41.945 41.693 66.432 68.082 64.632 69.698 71.04  67.586]\n"
     ]
    }
   ],
   "source": [
    "import numpy as np\n",
    "\n",
    "# Read the file\n",
    "with open(\"nohup.out\", \"r\") as file:\n",
    "    data = file.read()\n",
    "\n",
    "# Extract the numbers after \"Eval_acc: \"\n",
    "numbers = []\n",
    "for line in data.splitlines():\n",
    "    if \"Eval_acc: \" in line:\n",
    "        number = line.split(\"Eval_acc: \")[-1]\n",
    "        numbers.append(float(number))\n",
    "\n",
    "# Convert the list to a numpy array\n",
    "numbers_array = np.array(numbers)\n",
    "\n",
    "# Print the numpy array\n",
    "print(numbers_array)"
   ]
  },
  {
   "cell_type": "code",
   "execution_count": null,
   "metadata": {},
   "outputs": [],
   "source": [
    "# Above is the accuracy during continual learning training on different datasets when using some certain checkpoints."
   ]
  },
  {
   "attachments": {},
   "cell_type": "markdown",
   "metadata": {},
   "source": [
    "| dataset   | batch size | final accuracy(%) |\n",
    "|-----------|------------|-----|\n",
    "| inat2019  | 16         | 46  |\n",
    "| inat2019  | 32         | 53  |\n",
    "| places365  | 16         | 38  |\n",
    "| places365  | 32         | 41  |\n",
    "| imagenet  | 16         | 64  |\n",
    "| imagenet  | 32         | 67  |\n"
   ]
  }
 ],
 "metadata": {
  "kernelspec": {
   "display_name": "base",
   "language": "python",
   "name": "python3"
  },
  "language_info": {
   "codemirror_mode": {
    "name": "ipython",
    "version": 3
   },
   "file_extension": ".py",
   "mimetype": "text/x-python",
   "name": "python",
   "nbconvert_exporter": "python",
   "pygments_lexer": "ipython3",
   "version": "3.9.13"
  },
  "orig_nbformat": 4
 },
 "nbformat": 4,
 "nbformat_minor": 2
}
